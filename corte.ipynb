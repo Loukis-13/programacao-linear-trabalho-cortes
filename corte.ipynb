{
 "cells": [
  {
   "attachments": {},
   "cell_type": "markdown",
   "metadata": {},
   "source": [
    "# Cortes\n",
    ">$n$: Quantidade de demandas  \n",
    ">$m$: Quantidade de padrões de corte  \n",
    "\n",
    "## Variáveis\n",
    ">$x_j$: Quantidade de bobinas, para $j = 1,\\ldots, m$  \n",
    "\n",
    "## Parâmetros\n",
    ">$M$: Compromento da bobina matriz.  \n",
    ">$D_i$: Demanda das bobinas menores, para $i = 1,\\ldots, n$  \n",
    ">$P_{ij}$: Padrões de corte, para $i = 1,\\ldots, n$ e $j = 1,\\ldots, m$  \n",
    "\n",
    "## Modelo  \n",
    "\n",
    "\\begin{align*}\n",
    "    \\hbox{min} \\ \\ \n",
    "        & \\sum_{j=1}^m x_i \\\\\n",
    "        \n",
    "    \\hbox{s.a.} \\ \\ \n",
    "        & \\sum_{j=1}^m P_{ij} x_j \\geq D_i && i = 1,\\ldots, n \\\\\n",
    "        & P_{ij} \\geq 0                    && i = 1,\\ldots, n \\,;\\, j = 1,\\ldots, m \\\\\n",
    "        & D_i \\geq 0                       && i = 1,\\ldots, n \\\\\n",
    "        & M   \\geq 0\n",
    "\\end{align*}"
   ]
  },
  {
   "cell_type": "code",
   "execution_count": 39,
   "metadata": {},
   "outputs": [],
   "source": [
    "from itertools import product\n",
    "\n",
    "\n",
    "def cut_patterns(M: int, C: list[int]) -> list[list[int]]:\n",
    "    corte_minimo = M - min(C)\n",
    "    cortes = product(*(range(M//i + 1) for i in C))\n",
    "    x = [i for i in cortes if corte_minimo < sum(a*b for a, b in zip(i, C)) <= M]\n",
    "\n",
    "    return x"
   ]
  },
  {
   "cell_type": "code",
   "execution_count": 56,
   "metadata": {},
   "outputs": [],
   "source": [
    "import pandas as pd\n",
    "from IPython.display import display\n",
    "\n",
    "def create_table(M: int, C: list[int]):\n",
    "    patterns = cut_patterns(M, C)\n",
    "    df = pd.DataFrame(patterns, columns=C)\n",
    "    df[\"Resto\"] = M - df.mul(C).sum(axis=1)\n",
    "    display(df)\n",
    "    \n",
    "    return df.to_string()"
   ]
  },
  {
   "cell_type": "code",
   "execution_count": 46,
   "metadata": {},
   "outputs": [],
   "source": [
    "from pymprog import *\n",
    "\n",
    "def modelo_cortes(M, C, D):\n",
    "    P = [*zip(*cut_patterns(M, C))]\n",
    "\n",
    "    n = len(D)\n",
    "    m = len(P[0])\n",
    "\n",
    "    begin(\"cortes\")\n",
    "\n",
    "    x = var(\"x\", m, int)\n",
    "\n",
    "    minimize( sum(x) )\n",
    "\n",
    "    for i in range(n):\n",
    "        sum(P[i][j] * x[j] for j in range(m)) >= D[i]\n",
    "\n",
    "    solve()\n",
    "\n",
    "    obj = vobj()\n",
    "\n",
    "    end()\n",
    "\n",
    "    return obj, x, P"
   ]
  },
  {
   "cell_type": "code",
   "execution_count": null,
   "metadata": {},
   "outputs": [],
   "source": [
    "import os\n",
    "\n",
    "for file in os.listdir(\"./input/\"):\n",
    "    with open(f\"input/{file}\", \"r\") as f:\n",
    "        M = int(f.readline())\n",
    "\n",
    "        # descarta dado não utilizado\n",
    "        f.readline()\n",
    "\n",
    "        C, D = [], []\n",
    "        for i in f.readlines():\n",
    "            c, d = map(int, i.split())\n",
    "            C.append(c)\n",
    "            D.append(d)\n",
    "\n",
    "        # create_table(M, C)\n",
    "        obj, varx, P = modelo_cortes(M, C, D)\n",
    "        P = [*zip(*P)]\n",
    "\n",
    "        with open(f\"output/{file}\", \"w\") as f:\n",
    "            f.write(create_table(M, C) + \"\\n\\n\")\n",
    "\n",
    "            f.write(f\"Tamanho da bobina matriz: {M}\\n\")\n",
    "            f.write(f\"Tamanho das bobinas menores: {C}\\n\")\n",
    "            f.write(f\"Demandas: {D}\\n\\n\")\n",
    "\n",
    "            f.write(f\"Quantidade de bobinas usadas: {int(obj)}\\n\\n\")\n",
    "\n",
    "            desperdicio_total = 0\n",
    "\n",
    "            for i, x in enumerate(varx):\n",
    "                if x.primal:\n",
    "                    resto = M - sum(a*b for a, b in zip(P[i], C))\n",
    "                    desperdicio_total += int(x.primal) * resto\n",
    "\n",
    "                    f.write(f\"Padrão {i:>2}: {P[i]} resto {resto}\\n\")\n",
    "                    f.write(f\"Quantidade usada: {int(x.primal)}\\n\")\n",
    "                    f.write(f\"Quantidade desperdiçada: {int(x.primal) * resto}\\n\")\n",
    "                    f.write(f\"Quantidade satisfeita de cada demanda: {tuple(j * int(x.primal) for j in P[i])}\\n\\n\")\n",
    "\n",
    "            f.write(f\"Quantidade total de papel gasto: {int(obj) * M}\\n\")\n",
    "            f.write(f\"Quantidade desperdiçada: {desperdicio_total}\\n\")"
   ]
  }
 ],
 "metadata": {
  "kernelspec": {
   "display_name": "env",
   "language": "python",
   "name": "python3"
  },
  "language_info": {
   "codemirror_mode": {
    "name": "ipython",
    "version": 3
   },
   "file_extension": ".py",
   "mimetype": "text/x-python",
   "name": "python",
   "nbconvert_exporter": "python",
   "pygments_lexer": "ipython3",
   "version": "3.10.10"
  },
  "orig_nbformat": 4,
  "vscode": {
   "interpreter": {
    "hash": "e1441e6655b98db379fa9ed5ff470a5de63bd8ba091817aa791b362cb724f303"
   }
  }
 },
 "nbformat": 4,
 "nbformat_minor": 2
}
