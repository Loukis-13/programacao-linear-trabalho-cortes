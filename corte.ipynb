{
 "cells": [
  {
   "attachments": {},
   "cell_type": "markdown",
   "metadata": {},
   "source": [
    "# Cortes\n",
    ">$n$: Número de demandas  \n",
    "\n",
    "## Variáveis\n",
    ">$x_i$: Quantidade de bobinas\n",
    "\n",
    "## Parâmetros\n",
    ">$M$: Compromento da matriz.  \n",
    ">$C_i$: Comprimento das bobinas menores, para $i = 1,\\ldots, n$  \n",
    ">$D_i$: Demanda das bobinas menores, para $i = 1,\\ldots, n$  \n",
    "\n",
    "## Modelo  \n",
    "\n",
    "\\begin{align*}\n",
    "    \\hbox{min} \\ \\ \n",
    "        & \\sum_{i=1}^n x_i \\\\\n",
    "        \n",
    "    \\hbox{s.a.} \\ \\ \n",
    "        & C_i \\geq 0 && i = 1,\\ldots, n \\\\\n",
    "        & D_i \\geq 0 && i = 1,\\ldots, n \\\\\n",
    "        & M \\geq 0\n",
    "\\end{align*}"
   ]
  },
  {
   "cell_type": "code",
   "execution_count": 14,
   "metadata": {},
   "outputs": [
    {
     "data": {
      "text/plain": [
       "[[2, 0, 1, 0],\n",
       " [1, 2, 0, 0],\n",
       " [0, 3, 0, 10],\n",
       " [0, 2, 1, 20],\n",
       " [0, 1, 3, 0],\n",
       " [0, 0, 4, 10],\n",
       " [0, 0, 3, 40],\n",
       " [0, 0, 2, 70],\n",
       " [0, 0, 1, 100]]"
      ]
     },
     "execution_count": 14,
     "metadata": {},
     "output_type": "execute_result"
    }
   ],
   "source": [
    "M = 130\n",
    "C = [40, 30, 50]\n",
    "C.sort(reverse=True)\n",
    "\n",
    "cortes = [M//i for i in C]\n",
    "\n",
    "x = []\n",
    "\n",
    "c = 0\n",
    "while any(cortes):\n",
    "    n = M\n",
    "    a = []\n",
    "    for i, j in zip(cortes, C):\n",
    "        if j <= n:\n",
    "            i = min(i, n//j)\n",
    "            a.append(i)\n",
    "            n -= i*j\n",
    "        else:\n",
    "            a.append(0)\n",
    "\n",
    "    # apendice o resto\n",
    "    a.append(n)\n",
    "\n",
    "    x.append(a)\n",
    "\n",
    "    cortes[c] -= 1\n",
    "\n",
    "    if cortes[c] == 0:\n",
    "        c += 1\n",
    "\n",
    "x"
   ]
  },
  {
   "cell_type": "code",
   "execution_count": null,
   "metadata": {},
   "outputs": [],
   "source": [
    "from pymprog import *"
   ]
  }
 ],
 "metadata": {
  "kernelspec": {
   "display_name": "env",
   "language": "python",
   "name": "python3"
  },
  "language_info": {
   "codemirror_mode": {
    "name": "ipython",
    "version": 3
   },
   "file_extension": ".py",
   "mimetype": "text/x-python",
   "name": "python",
   "nbconvert_exporter": "python",
   "pygments_lexer": "ipython3",
   "version": "3.10.10"
  },
  "orig_nbformat": 4
 },
 "nbformat": 4,
 "nbformat_minor": 2
}
